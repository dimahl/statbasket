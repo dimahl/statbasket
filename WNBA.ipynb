{
 "cells": [
  {
   "cell_type": "code",
   "execution_count": 1,
   "metadata": {},
   "outputs": [],
   "source": [
    "import pandas as pd\n",
    "import time\n",
    "import ipywidgets as widgets\n",
    "from ipywidgets import Layout, Button, Box\n",
    "import matplotlib.pyplot as plt"
   ]
  },
  {
   "cell_type": "code",
   "execution_count": 2,
   "metadata": {},
   "outputs": [],
   "source": [
    "WNBA ={\n",
    "    'ATL':('ATL','Atlanta Dream','East'), 'CHI':('CHI','Chicago Sky','East'), 'CON':('CON','Connecticut Sun','East'),\n",
    "    'DAL':('DAL','Dallas Wings','West'), 'IND':('IND','Indiana Fever','East'), 'LAS':('LAS','Los Angeles Sparks','West'),\n",
    "    'LVA':('LVA','Las Vegas Aces','West'), 'MIN':('MIN','Minnesota Lynx','West'), 'NYL':('NYL','New York Liberty','East'),\n",
    "    'PHO':('PHO','Phoenix Mercury','West'), 'SEA':('SEA','Seattle Storm','West'), 'WAS':('WAS','Washington Mystics','East')\n",
    "      }\n",
    "start_link = 'https://www.basketball-reference.com/wnba/teams/'\n",
    "end_link = '/2021_games.html'\n",
    "\n",
    "selected_data = []   # in global scope rather than local scope to function\n",
    "def create_checklist():\n",
    "\n",
    "\n",
    "    names = []\n",
    "    checkbox_objects = []\n",
    "    for val in WNBA.values():\n",
    "        key = val[0]\n",
    "        name = val[1]\n",
    "        checkbox_objects.append(widgets.ToggleButton(description=key, value=False, tooltip=name))        \n",
    "        names.append(key)\n",
    "\n",
    "    arg_dict = {names[i]: checkbox for i, checkbox in enumerate(checkbox_objects)}\n",
    "    box_layout = Layout(display='flex',\n",
    "                    flex_flow='row',\n",
    "                    align_items='stretch',\n",
    "                    border='solid',\n",
    "                    width='50%')\n",
    "    \n",
    "    ui = widgets.HBox(children=checkbox_objects)\n",
    "\n",
    "\n",
    "    def select_data(**kwargs):\n",
    "        selected_data.clear()\n",
    "\n",
    "        for key in kwargs:\n",
    "            if kwargs[key] is True:\n",
    "                selected_data.append(key)\n",
    "\n",
    "        print(selected_data)\n",
    "\n",
    "    out = widgets.interactive_output(select_data, arg_dict)\n",
    "    display(ui)\n",
    "    return out\n",
    "\n",
    "def create_df(list_df):\n",
    "    \"\"\"Формирование дата фрема команды из таблицы регулярки и плейофф(если есть)\"\"\"\n",
    "    \n",
    "    df_poff = pd.DataFrame()\n",
    "    for df in list_df:\n",
    "        df = df[['Date', 'Unnamed: 2', 'Opponent', 'Tm', 'Opp', 'Streak']].rename(columns={'Unnamed: 2':'Road'})\n",
    "        df = df[(df['Tm'] != 'Tm')]\n",
    "        df.dropna(subset=['Tm'], inplace=True) # Remove missing values.\n",
    "        df.reset_index(drop=True, inplace=True)\n",
    "        df['Date'] = pd.to_datetime(df['Date'])\n",
    "        df_regul = df_poff\n",
    "        df_poff = df\n",
    "\n",
    "    df_total = pd.DataFrame()\n",
    "    df_total = df_regul.append(df_poff, ignore_index=True)\n",
    "    df_total.sort_values('Date', ascending=False, inplace=True)\n",
    "    \n",
    "    df_total['Tm'] = df_total.Tm.astype('int32')\n",
    "    df_total['Opp'] = df_total.Opp.astype('int32')\n",
    "    \n",
    "    return df_total\n",
    "\n",
    "def create_dicts(df_total):\n",
    "    ''' Раздел счетчика чет нечет всего '''\n",
    "\n",
    "    even = 0 # четный\n",
    "    odd = 0 # нечетный\n",
    "\n",
    "    even_dict = {}\n",
    "    odd_dict = {}\n",
    "    sum_even = 0\n",
    "    sum_odd = 0\n",
    "    list_ev_odd = []\n",
    "    for it in df_total.Tm:\n",
    "        if int(it) % 2 == 0:\n",
    "            sum_even += 1 # Общая четных\n",
    "            if odd != 0 and str(odd) not in odd_dict:\n",
    "                odd_dict.setdefault(str(odd), 1)\n",
    "                list_ev_odd.append(odd*-1)\n",
    "            elif odd != 0 and str(odd) in odd_dict:\n",
    "                odd_dict[str(odd)] += 1\n",
    "                list_ev_odd.append(odd*-1)\n",
    "            odd = 0\n",
    "            even += 1\n",
    "        elif int(it) % 2 != 0:\n",
    "            sum_odd += 1 # Общая нечетных\n",
    "            if even != 0 and str(even) not in even_dict:\n",
    "                even_dict.setdefault(str(even), 1)\n",
    "                list_ev_odd.append(even)\n",
    "            elif even != 0 and str(even) in even_dict:\n",
    "                even_dict[str(even)] += 1\n",
    "                list_ev_odd.append(even)\n",
    "            even = 0\n",
    "            odd += 1\n",
    "\n",
    "   \n",
    "    if odd != 0 and str(odd) not in odd_dict: # т.к. запись в словарь происходит после смены чет/нечет то по окончанию\n",
    "        odd_dict.setdefault(str(odd), 1)      # цикла переменная накопилась но смены уже не произойдет, поэтому записываю\n",
    "        list_ev_odd.append(odd*-1)            # переменную после выхода из цикла\n",
    "    elif odd != 0 and str(odd) in odd_dict:  \n",
    "        odd_dict[str(odd)] += 1\n",
    "        list_ev_odd.append(odd*-1)\n",
    "    if even != 0 and str(even) not in even_dict:\n",
    "        even_dict.setdefault(str(even), 1)\n",
    "        list_ev_odd.append(even)\n",
    "    elif even != 0 and str(even) in even_dict:\n",
    "        even_dict[str(even)] += 1\n",
    "        list_ev_odd.append(even)\n",
    "   \n",
    "    return sum_even, sum_odd, even_dict, odd_dict, list_ev_odd\n",
    "\n",
    "def read_sort_dict(even_dict1, odd_dict1):\n",
    "        \"\"\"Вывод отсортированнного словаря \"\"\"\n",
    "\n",
    "        print('Статистика четного вхождения:')\n",
    "        chance = 0\n",
    "        list_key = list(even_dict1.keys())\n",
    "        list_key.sort()\n",
    "        for key in list_key:\n",
    "            part = round(even_dict1[key]/sum(even_dict1.values()), 2)\n",
    "            chance += even_dict1[key]/sum(even_dict1.values()) \n",
    "            print(key, 'подряд - ', even_dict1[key], 'раз ', part, ' --> ', round(chance, 2))\n",
    "        \n",
    "        print('')    \n",
    "        print('Статистика нечетного вхождения:')\n",
    "        chance = 0\n",
    "        list_key = list(odd_dict1.keys())\n",
    "        list_key.sort()\n",
    "        for key in list_key:\n",
    "            part = round(odd_dict1[key]/sum(odd_dict1.values()), 2)\n",
    "            chance += odd_dict1[key]/sum(odd_dict1.values()) \n",
    "            print(key, 'подряд - ', odd_dict1[key], 'раз ', part, ' --> ', round(chance, 2))\n"
   ]
  },
  {
   "cell_type": "code",
   "execution_count": 14,
   "metadata": {},
   "outputs": [],
   "source": [
    "for key, val in b.items():\n",
    "    if key in a:\n",
    "        c[key] += val\n",
    "    else:\n",
    "        c[key] = val"
   ]
  },
  {
   "cell_type": "code",
   "execution_count": 15,
   "metadata": {},
   "outputs": [
    {
     "data": {
      "text/plain": [
       "{'a': 1, 'b': 11, 'c': 9}"
      ]
     },
     "execution_count": 15,
     "metadata": {},
     "output_type": "execute_result"
    }
   ],
   "source": [
    "c"
   ]
  },
  {
   "cell_type": "code",
   "execution_count": 3,
   "metadata": {},
   "outputs": [
    {
     "data": {
      "application/vnd.jupyter.widget-view+json": {
       "model_id": "ccd99bea40fd42718c8bf5658e3f03bd",
       "version_major": 2,
       "version_minor": 0
      },
      "text/plain": [
       "HBox(children=(ToggleButton(value=False, description='ATL', tooltip='Atlanta Dream'), ToggleButton(value=False…"
      ]
     },
     "metadata": {},
     "output_type": "display_data"
    }
   ],
   "source": [
    "checklist = create_checklist()"
   ]
  },
  {
   "cell_type": "code",
   "execution_count": null,
   "metadata": {},
   "outputs": [],
   "source": []
  },
  {
   "cell_type": "code",
   "execution_count": 50,
   "metadata": {
    "scrolled": false
   },
   "outputs": [
    {
     "name": "stdout",
     "output_type": "stream",
     "text": [
      "EvOdd WNBA 18-10-2021, 21:58:15\n",
      "#############################\n",
      "----- команда 1 из 1 -----\n",
      "WASHINGTON MYSTICS\n",
      "\n",
      "Не найдено для 3-х подряд  Четных: 13 ( 0.41 )  Нечетных: 19 ( 0.59 )\n",
      "\n",
      "Статистика четного вхождения:\n",
      "1 подряд -  3 раз  0.43  -->  0.43\n",
      "2 подряд -  2 раз  0.29  -->  0.71\n",
      "3 подряд -  2 раз  0.29  -->  1.0\n",
      "\n",
      "Статистика нечетного вхождения:\n",
      "1 подряд -  4 раз  0.57  -->  0.57\n",
      "3 подряд -  1 раз  0.14  -->  0.71\n",
      "5 подряд -  1 раз  0.14  -->  0.86\n",
      "7 подряд -  1 раз  0.14  -->  1.0\n"
     ]
    },
    {
     "data": {
      "image/png": "[encoded data removed]",
      "text/plain": [
       "<Figure size 1080x360 with 1 Axes>"
      ]
     },
     "metadata": {
      "needs_background": "light"
     },
     "output_type": "display_data"
    },
    {
     "name": "stdout",
     "output_type": "stream",
     "text": [
      "печать четного\n",
      "{'1': 3, '3': 2, '2': 2}\n",
      "\n",
      "печать нечетного\n",
      "{'1': 4, '3': 1, '5': 1, '7': 1}\n",
      "\n",
      "КОНЕЦ\n"
     ]
    }
   ],
   "source": [
    "count = 0\n",
    "all_ = len(selected_data)\n",
    "N = 3 # Поиск длины серии не менее N\n",
    "N_not_only = True # Отображать стату не только команды, с длиной длиной серии не менее N\n",
    "full_even_dict = {}\n",
    "full_odd_dict = {}\n",
    "if selected_data:\n",
    "    print('EvOdd WNBA', time.strftime(\"%d-%m-%Y, %H:%M:%S\") )\n",
    "else:\n",
    "    print('Не выбрана ни одна команда')\n",
    "    \n",
    "for team in selected_data:\n",
    "    count += 1 \n",
    "    link = start_link + team + end_link\n",
    "    time.sleep(0.3)\n",
    "    list_df = pd.read_html(link)\n",
    "    print(f'#############################')\n",
    "    print(f'----- команда {count} из {all_} -----')\n",
    "    print(f'{WNBA[team][1].upper()}')\n",
    "    print('')\n",
    "    \n",
    "################################################################################\n",
    "\n",
    "    df_total = create_df(list_df) #Формирование дата фрема команды из таблицы регулярки и плейофф(если есть)\n",
    "\n",
    "####################################################################    \n",
    "    # Поиск в последних играх серии чет\\нечет с длиной не менее N \n",
    "    len_even = 0\n",
    "    len_odd = 0\n",
    "\n",
    "    for item in df_total.Tm:\n",
    "        if int(item) % 2 == 0:\n",
    "            if len_odd != 0 : \n",
    "                if len_odd >= N:\n",
    "                    print(f'НЕЧЕТНО {len_odd} раз(а) подряд', end='  ')\n",
    "                else:\n",
    "                    print(f'Не найдено для {N}-х подряд', end='  ')\n",
    "                break\n",
    "            len_odd = 0\n",
    "            len_even += 1\n",
    "        else:\n",
    "            if len_even != 0 :\n",
    "                if len_even >= N:\n",
    "                    print(f'ЧЕТНО {len_even} раз(а) подряд', end='  ')\n",
    "                else:\n",
    "                    print(f'Не найдено для {N}-х подряд', end='  ')\n",
    "                break\n",
    "            len_even = 0\n",
    "            len_odd += 1\n",
    "\n",
    "####################################################################        \n",
    "    if (len_even >= N or len_odd >= N) or N_not_only:\n",
    "        sum_even, sum_odd, even_dict, odd_dict, list_ev_odd = create_dicts(df_total)      # Раздел счетчика чет нечет всего\n",
    "        list_ev_odd.reverse()\n",
    "\n",
    "        print('Четных:',sum_even, '(', round(sum_even/(sum_even+sum_odd),2), ')', end=' ')\n",
    "        print(' Нечетных:',sum_odd, '(', round(sum_odd/(sum_even+sum_odd),2), ')')\n",
    "\n",
    "\n",
    "\n",
    "        print('')\n",
    "        read_sort_dict(even_dict, odd_dict) # Вывод отсортированнного словаря\n",
    "\n",
    "    #     print('')\n",
    "    #     print('')\n",
    "    #     df_total = df_total.style.apply(lambda x: [\"background-color: #ff33aa\" \n",
    "    #                           if (i >= 2 and (v % 2 == 0 )) \n",
    "    #                           else \"\" for i, v in enumerate(x)], axis = 1)\n",
    "    #     display(df_total.head(5))\n",
    "        pd.Series(list_ev_odd).plot.bar(figsize=(15,5)).grid(axis='y')\n",
    "        plt.show()\n",
    "    #     print(pd.Series(list_ev_odd).describe())\n",
    "    #     print(pd.Series(list_ev_odd).mode())\n",
    "\n",
    "    \n",
    "##Недоделан блок ниже подсчета ИТОГО по всем командам     \n",
    "    even_dict, odd_dict =  create_dicts(df_total)[2:4]\n",
    "\n",
    "    for key, val in even_dict.items():\n",
    "        if key in full_even_dict:\n",
    "            full_even_dict[key] += val\n",
    "        else:\n",
    "            full_even_dict[key] = val\n",
    "    \n",
    "    for key, val in odd_dict.items():\n",
    "        if key in full_odd_dict:\n",
    "            full_odd_dict[key] += val\n",
    "        else:\n",
    "            full_odd_dict[key] = val\n",
    "print('печать четного')\n",
    "print(full_even_dict)\n",
    "print('')\n",
    "print('печать нечетного')\n",
    "print(full_odd_dict)\n",
    "print('')\n",
    "print('КОНЕЦ')\n"
   ]
  },
  {
   "cell_type": "markdown",
   "metadata": {},
   "source": [
    "## Конец документа"
   ]
  },
  {
   "cell_type": "code",
   "execution_count": 46,
   "metadata": {},
   "outputs": [
    {
     "name": "stdout",
     "output_type": "stream",
     "text": [
      "{'2': 29, '1': 54, '3': 13, '6': 2, '4': 2, '5': 3}\n"
     ]
    }
   ],
   "source": [
    "print(full_even_dict)"
   ]
  },
  {
   "cell_type": "code",
   "execution_count": 47,
   "metadata": {},
   "outputs": [
    {
     "data": {
      "text/plain": [
       "{'1': 44, '2': 21, '3': 15, '5': 5, '4': 12, '6': 2, '7': 2}"
      ]
     },
     "execution_count": 47,
     "metadata": {},
     "output_type": "execute_result"
    }
   ],
   "source": [
    "full_odd_dict"
   ]
  },
  {
   "cell_type": "code",
   "execution_count": 48,
   "metadata": {},
   "outputs": [
    {
     "data": {
      "text/plain": [
       "<BarContainer object of 7 artists>"
      ]
     },
     "execution_count": 48,
     "metadata": {},
     "output_type": "execute_result"
    },
    {
     "data": {
      "image/png": "[encoded data removed]",
      "text/plain": [
       "<Figure size 432x288 with 1 Axes>"
      ]
     },
     "metadata": {
      "needs_background": "light"
     },
     "output_type": "display_data"
    }
   ],
   "source": [
    "plt.bar(list(full_odd_dict.keys()), list(full_odd_dict.values()), color='g')"
   ]
  },
  {
   "cell_type": "code",
   "execution_count": 49,
   "metadata": {},
   "outputs": [
    {
     "data": {
      "text/plain": [
       "<BarContainer object of 6 artists>"
      ]
     },
     "execution_count": 49,
     "metadata": {},
     "output_type": "execute_result"
    },
    {
     "data": {
      "image/png": "[encoded data removed]",
      "text/plain": [
       "<Figure size 432x288 with 1 Axes>"
      ]
     },
     "metadata": {
      "needs_background": "light"
     },
     "output_type": "display_data"
    }
   ],
   "source": [
    "plt.bar(list(full_even_dict.keys()), list(full_even_dict.values()), color='g')"
   ]
  },
  {
   "cell_type": "code",
   "execution_count": null,
   "metadata": {},
   "outputs": [],
   "source": []
  }
 ],
 "metadata": {
  "kernelspec": {
   "display_name": "Python 3",
   "language": "python",
   "name": "python3"
  },
  "language_info": {
   "codemirror_mode": {
    "name": "ipython",
    "version": 3
   },
   "file_extension": ".py",
   "mimetype": "text/x-python",
   "name": "python",
   "nbconvert_exporter": "python",
   "pygments_lexer": "ipython3",
   "version": "3.8.8"
  }
 },
 "nbformat": 4,
 "nbformat_minor": 4
}
